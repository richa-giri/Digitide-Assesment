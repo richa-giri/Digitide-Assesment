{
  "nbformat": 4,
  "nbformat_minor": 0,
  "metadata": {
    "colab": {
      "provenance": [],
      "authorship_tag": "ABX9TyPIFBC5d06RHXcTWeoQK3ga",
      "include_colab_link": true
    },
    "kernelspec": {
      "name": "python3",
      "display_name": "Python 3"
    },
    "language_info": {
      "name": "python"
    }
  },
  "cells": [
    {
      "cell_type": "markdown",
      "metadata": {
        "id": "view-in-github",
        "colab_type": "text"
      },
      "source": [
        "<a href=\"https://colab.research.google.com/github/richa-giri/Digitide-Work/blob/main/OpenSource.ipynb\" target=\"_parent\"><img src=\"https://colab.research.google.com/assets/colab-badge.svg\" alt=\"Open In Colab\"/></a>"
      ]
    },
    {
      "cell_type": "markdown",
      "source": [
        "# Assignment1:Hugging Face Model Exploration\n"
      ],
      "metadata": {
        "id": "NvYa6u5seZkQ"
      }
    },
    {
      "cell_type": "code",
      "execution_count": null,
      "metadata": {
        "id": "WoSIePbReSxY"
      },
      "outputs": [],
      "source": [
        "!pip install transformers torch\n"
      ]
    },
    {
      "cell_type": "code",
      "source": [
        "from transformers import pipeline"
      ],
      "metadata": {
        "id": "Kklv-sbGfAzd"
      },
      "execution_count": null,
      "outputs": []
    },
    {
      "cell_type": "code",
      "source": [
        "classifier = pipeline(\"sentiment-analysis\", model=\"distilbert-base-uncased-finetuned-sst-2-english\")\n",
        "\n",
        "test_texts = [\n",
        "    \"I love working with Hugging Face models, they are amazing!\",\n",
        "    \"This assignment is really difficult and frustrating.\"\n",
        "]\n",
        "\n",
        "results = classifier(test_texts)\n",
        "\n",
        "for text, result in zip(test_texts, results):\n",
        "    print(f\"Input: {text}\")\n",
        "    print(f\"Prediction: {result['label']} with score {result['score']:.4f}\\n\")\n",
        "\n"
      ],
      "metadata": {
        "id": "R1cxJbntfRC3"
      },
      "execution_count": null,
      "outputs": []
    }
  ]
}
