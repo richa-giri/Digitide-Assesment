{
  "nbformat": 4,
  "nbformat_minor": 0,
  "metadata": {
    "colab": {
      "provenance": [],
      "authorship_tag": "ABX9TyPjx8SCJAMc9gpkb6Hu61Fx",
      "include_colab_link": true
    },
    "kernelspec": {
      "name": "python3",
      "display_name": "Python 3"
    },
    "language_info": {
      "name": "python"
    }
  },
  "cells": [
    {
      "cell_type": "markdown",
      "metadata": {
        "id": "view-in-github",
        "colab_type": "text"
      },
      "source": [
        "<a href=\"https://colab.research.google.com/github/richa-giri/Digitide-Work/blob/main/PromptEngineering.ipynb\" target=\"_parent\"><img src=\"https://colab.research.google.com/assets/colab-badge.svg\" alt=\"Open In Colab\"/></a>"
      ]
    },
    {
      "cell_type": "markdown",
      "source": [
        "# Assignment 1:"
      ],
      "metadata": {
        "id": "SkyxGL7GcW0h"
      }
    },
    {
      "cell_type": "code",
      "execution_count": null,
      "metadata": {
        "id": "R_XRVRP3btS8"
      },
      "outputs": [],
      "source": [
        "!pip install transformers"
      ]
    },
    {
      "cell_type": "code",
      "execution_count": null,
      "metadata": {
        "id": "Tq6JCiwT8unU"
      },
      "outputs": [],
      "source": [
        "from transformers import pipeline\n",
        "\n",
        "classifier = pipeline(\"text-classification\", model=\"distilbert-base-uncased-finetuned-sst-2-english\")\n",
        "\n",
        "sentence = \"I love my new phone.\"\n",
        "zero_shot_prompt = \"Determine if the following sentence is positive or negative: \" + sentence\n",
        "zero_shot_output = classifier(sentence)\n",
        "\n",
        "few_shot_prompt = \"\"\"Example 1: I am happy today. → Positive\n",
        "Example 2: I am sad today. → Negative\n",
        "Now classify: The movie was amazing.\"\"\"\n",
        "few_shot_sentence = \"The movie was amazing.\"\n",
        "few_shot_output = classifier(few_shot_sentence)\n",
        "\n",
        "print(\"Zero-shot prompt:\", zero_shot_prompt)\n",
        "print(\"Zero-shot output:\", zero_shot_output)\n",
        "print(\"Few-shot prompt:\\n\", few_shot_prompt)\n",
        "print(\"Few-shot output:\", few_shot_output)"
      ]
    },
    {
      "cell_type": "markdown",
      "source": [
        "# Assignment 2:"
      ],
      "metadata": {
        "id": "8YjBsxI4cAep"
      }
    },
    {
      "cell_type": "code",
      "source": [
        "!pip -q install transformers accelerate sentencepiece\n",
        "\n",
        "from transformers import pipeline\n",
        "\n",
        "gen = pipeline(\"text2text-generation\", model=\"google/flan-t5-base\")\n",
        "\n",
        "role_prompt = \"You are a high school biology teacher. Explain photosynthesis to students in simple words.\"\n",
        "step_prompt = \"Explain photosynthesis step by step, reasoning each step clearly.\"\n",
        "\n",
        "out_role = gen(role_prompt, max_length=220, do_sample=False)[0][\"generated_text\"]\n",
        "out_step = gen(step_prompt, max_length=260, do_sample=False)[0][\"generated_text\"]\n",
        "\n",
        "print(\"=== Role-Based Output ===\\n\", out_role, \"\\n\")\n",
        "print(\"=== Step-by-Step Output ===\\n\", out_step)"
      ],
      "metadata": {
        "id": "MQqD1To9cbDA"
      },
      "execution_count": null,
      "outputs": []
    }
  ]
}
